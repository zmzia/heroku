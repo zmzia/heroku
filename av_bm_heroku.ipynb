{
 "cells": [
  {
   "cell_type": "code",
   "execution_count": 104,
   "metadata": {},
   "outputs": [],
   "source": [
    "try :\n",
    "    import numpy as np\n",
    "    import pandas as pd\n",
    "    from datetime import date\n",
    "\n",
    "    from sklearn.impute import SimpleImputer\n",
    "    from sklearn.preprocessing import MinMaxScaler\n",
    "\n",
    "    from sklearn.pipeline import Pipeline\n",
    "    from sklearn.compose import ColumnTransformer\n",
    "    import joblib\n",
    "\n",
    "    from sklearn.linear_model import LinearRegression\n",
    "\n",
    "    printing = True\n",
    "\n",
    "    train = pd.read_csv(\"train.csv\")\n",
    "    test = pd.read_csv(\"test.csv\")\n",
    "\n",
    "    #display(train.info(), train.head(2), train.shape, train.nunique()) if printing == True else None\n",
    "except:\n",
    "    print(\"some issue\")"
   ]
  },
  {
   "cell_type": "code",
   "execution_count": 105,
   "metadata": {},
   "outputs": [],
   "source": [
    "tgt_var = 'Item_Outlet_Sales' ## train.columns.difference(test.columns)\n",
    "train['Age'] = date.today().year - train['Outlet_Establishment_Year']\n",
    "drop_cols = 'Outlet_Establishment_Year'\n",
    "num_cols = train.drop(columns=drop_cols,axis=1).select_dtypes(include = np.number).columns\n",
    "#train[num_cols].head(1)"
   ]
  },
  {
   "cell_type": "code",
   "execution_count": 106,
   "metadata": {},
   "outputs": [
    {
     "data": {
      "text/plain": [
       "'print(train.isna().sum()[train.isna().sum().values>0])\\nprint(test.isna().sum()[test.isna().sum().values>0])\\nprint(train.duplicated().sum(), test.duplicated().sum())'"
      ]
     },
     "execution_count": 106,
     "metadata": {},
     "output_type": "execute_result"
    }
   ],
   "source": [
    "'''print(train.isna().sum()[train.isna().sum().values>0])\n",
    "print(test.isna().sum()[test.isna().sum().values>0])\n",
    "print(train.duplicated().sum(), test.duplicated().sum())'''"
   ]
  },
  {
   "cell_type": "raw",
   "metadata": {},
   "source": [
    "def get_year(date):\n",
    "    return datetime.strptime(date, '%Y-%m-%d').year\n",
    "\n",
    "class YearTransformer(BaseEstimator, TransformerMixin):\n",
    "    \n",
    "    def __init__(self):\n",
    "        pass\n",
    "    \n",
    "    def fit(self, X, y=None):\n",
    "        return self\n",
    "    \n",
    "    def transform(self, X):\n",
    "        this_year = date.today().year\n",
    "        year = X.apply(get_year).rename('year')\n",
    "        month = pd.get_dummies(X.apply(get_month))\n",
    "        day = pd.get_dummies(X.apply(get_weekday))\n",
    "        return pd.concat([year, month, day], axis=1) "
   ]
  },
  {
   "cell_type": "code",
   "execution_count": 107,
   "metadata": {},
   "outputs": [
    {
     "data": {
      "text/plain": [
       "['AV_BM1.pkl']"
      ]
     },
     "execution_count": 107,
     "metadata": {},
     "output_type": "execute_result"
    }
   ],
   "source": [
    "X = train[num_cols].drop(columns=tgt_var)\n",
    "y = train[tgt_var]\n",
    "#train_X, test_X, train_y, test_y = train_test_split(X,y, test_size = 0.3, random_state=22)\n",
    "\n",
    "num_cols_pipe = train[num_cols].drop(columns=tgt_var,axis=1).select_dtypes(include = np.number).columns\n",
    "num_pipe = Pipeline([\n",
    "                ('Imputer',SimpleImputer(strategy='median')),\n",
    "                 ('scaler',MinMaxScaler())\n",
    "                ])\n",
    "\n",
    "preprocessor_ct = ColumnTransformer([\n",
    "                ('num',num_pipe,num_cols_pipe)\n",
    "                ])\n",
    "model_pipe = Pipeline([\n",
    "    ('preprocessor', preprocessor_ct),\n",
    "    ('model', LinearRegression())\n",
    "    ])\n",
    "\n",
    "pipe.fit(X, y)\n",
    "## joblib.dump(model_pipe,'AV_BM1.pkl')"
   ]
  },
  {
   "cell_type": "code",
   "execution_count": 120,
   "metadata": {},
   "outputs": [
    {
     "data": {
      "text/plain": [
       "(      Item_Weight  Item_Visibility  Item_MRP  Age\n",
       " 0           9.300         0.016047  249.8092   22\n",
       " 1           5.920         0.019278   48.2692   12\n",
       " 2          17.500         0.016760  141.6180   22\n",
       " 3          19.200         0.000000  182.0950   23\n",
       " 4           8.930         0.000000   53.8614   34\n",
       " ...           ...              ...       ...  ...\n",
       " 8518        6.865         0.056783  214.5218   34\n",
       " 8519        8.380         0.046982  108.1570   19\n",
       " 8520       10.600         0.035186   85.1224   17\n",
       " 8521        7.210         0.145221  103.1332   12\n",
       " 8522       14.800         0.044878   75.4670   24\n",
       " \n",
       " [8523 rows x 4 columns],\n",
       " 0       3735.1380\n",
       " 1        443.4228\n",
       " 2       2097.2700\n",
       " 3        732.3800\n",
       " 4        994.7052\n",
       "           ...    \n",
       " 8518    2778.3834\n",
       " 8519     549.2850\n",
       " 8520    1193.1136\n",
       " 8521    1845.5976\n",
       " 8522     765.6700\n",
       " Name: Item_Outlet_Sales, Length: 8523, dtype: float64)"
      ]
     },
     "execution_count": 120,
     "metadata": {},
     "output_type": "execute_result"
    }
   ],
   "source": [
    "X, y"
   ]
  },
  {
   "cell_type": "code",
   "execution_count": 122,
   "metadata": {},
   "outputs": [
    {
     "data": {
      "text/plain": [
       "array([819.42097771])"
      ]
     },
     "execution_count": 122,
     "metadata": {},
     "output_type": "execute_result"
    }
   ],
   "source": [
    "d = {'Item_Weight': 5.920, 'Item_Visibility': 0.019278, 'Item_MRP': 48.2692, 'Age': 12 }\n",
    "test_X = pd.DataFrame([d])\n",
    "pipe.predict(test_X)"
   ]
  }
 ],
 "metadata": {
  "kernelspec": {
   "display_name": "Python 3",
   "language": "python",
   "name": "python3"
  },
  "language_info": {
   "codemirror_mode": {
    "name": "ipython",
    "version": 3
   },
   "file_extension": ".py",
   "mimetype": "text/x-python",
   "name": "python",
   "nbconvert_exporter": "python",
   "pygments_lexer": "ipython3",
   "version": "3.8.5"
  }
 },
 "nbformat": 4,
 "nbformat_minor": 4
}
